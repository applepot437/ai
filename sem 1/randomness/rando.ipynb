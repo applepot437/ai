{
 "cells": [
  {
   "cell_type": "code",
   "execution_count": 2,
   "id": "27598961",
   "metadata": {},
   "outputs": [],
   "source": [
    "import random\n",
    "from collections import Counter\n",
    "import numpy as np"
   ]
  },
  {
   "cell_type": "markdown",
   "id": "0d7780a9",
   "metadata": {},
   "source": [
    "idk some low number like 0.012 or smt"
   ]
  },
  {
   "cell_type": "code",
   "execution_count": 8,
   "id": "77451ec1",
   "metadata": {},
   "outputs": [
    {
     "name": "stdout",
     "output_type": "stream",
     "text": [
      "Empirical probability of drawing a queen: 0.0860\n"
     ]
    }
   ],
   "source": [
    "def simulate_draw(num_simulations=1000):\n",
    "    num_queens_drawn = 0\n",
    "\n",
    "    # Simulate the process of drawing a card multiple times\n",
    "    for _ in range(num_simulations):\n",
    "        # Create and shuffle the deck\n",
    "        deck = ['queen'] * 4 + ['other'] * 48\n",
    "        random.shuffle(deck)\n",
    "\n",
    "        # Draw one card\n",
    "        drawn_card = random.choice(deck)\n",
    "        \n",
    "        # Check if the drawn card is a queen\n",
    "        if drawn_card == 'queen':\n",
    "            num_queens_drawn += 1\n",
    "\n",
    "    # Calculate the empirical probability\n",
    "    empirical_probability = num_queens_drawn / num_simulations\n",
    "    return empirical_probability\n",
    "\n",
    "# Run the simulation\n",
    "empirical_probability = simulate_draw()\n",
    "print(f\"Empirical probability of drawing a queen: {empirical_probability:.4f}\")\n"
   ]
  },
  {
   "cell_type": "code",
   "execution_count": 12,
   "id": "da5c578a",
   "metadata": {},
   "outputs": [
    {
     "name": "stdout",
     "output_type": "stream",
     "text": [
      "Empirical probability of drawing a queen or king: 0.1572\n"
     ]
    }
   ],
   "source": [
    "def simulate_draw(num_simulations=1000):\n",
    "    deck = ['2', '3', '4', '5', '6', '7', '8', '9', '10', 'J', 'Q', 'K', 'A'] * 4\n",
    "    \n",
    "    successful_draws = 0\n",
    "    \n",
    "    for _ in range(num_simulations):\n",
    "        random.shuffle(deck)\n",
    "        drawn_card = random.choice(deck)\n",
    "        \n",
    "        if drawn_card in ['Q', 'K']:\n",
    "            successful_draws += 1\n",
    "\n",
    "    empirical_probability = successful_draws / num_simulations\n",
    "    return empirical_probability\n",
    "\n",
    "empirical_probability = simulate_draw(10000)\n",
    "print(f\"Empirical probability of drawing a queen or king: {empirical_probability:.4f}\")\n"
   ]
  },
  {
   "cell_type": "code",
   "execution_count": null,
   "id": "5262d54c",
   "metadata": {},
   "outputs": [],
   "source": []
  }
 ],
 "metadata": {
  "kernelspec": {
   "display_name": "Python 3 (ipykernel)",
   "language": "python",
   "name": "python3"
  },
  "language_info": {
   "codemirror_mode": {
    "name": "ipython",
    "version": 3
   },
   "file_extension": ".py",
   "mimetype": "text/x-python",
   "name": "python",
   "nbconvert_exporter": "python",
   "pygments_lexer": "ipython3",
   "version": "3.9.13"
  }
 },
 "nbformat": 4,
 "nbformat_minor": 5
}

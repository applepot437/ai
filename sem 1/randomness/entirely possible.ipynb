{
 "cells": [
  {
   "cell_type": "code",
   "execution_count": 1,
   "id": "7b5aef88",
   "metadata": {},
   "outputs": [],
   "source": [
    "import random"
   ]
  },
  {
   "cell_type": "markdown",
   "id": "75618fd5",
   "metadata": {},
   "source": [
    "# P(O- U AB-) = 0.16\n",
    "# P(O- U AB-) = 0.125\n",
    "# P(O- U AB-) = 0.072"
   ]
  },
  {
   "cell_type": "code",
   "execution_count": 2,
   "id": "ca398776",
   "metadata": {},
   "outputs": [
    {
     "name": "stdout",
     "output_type": "stream",
     "text": [
      "0.13\n"
     ]
    }
   ],
   "source": [
    "# O positive: 1 - 350\n",
    "# A positive: 351 - 651\n",
    "    # O negative: 652 - 782\n",
    "# A negative: 783 - 863 \n",
    "# B positive: 864 - 944\n",
    "# B negative: 945 - 965\n",
    "# AB positive: 966 - 986\n",
    "    # AB negative: 987 - 1000\n",
    "trials = 1000\n",
    "count = 0\n",
    "blood = 0\n",
    "while count < trials:\n",
    "    num = random.randint(1, 1000)\n",
    "    if (num >= 652 and num <= 782) or (num >= 987):\n",
    "        blood += 1\n",
    "    count += 1\n",
    "    \n",
    "print(blood/trials)"
   ]
  },
  {
   "cell_type": "code",
   "execution_count": null,
   "id": "0cab9984",
   "metadata": {},
   "outputs": [],
   "source": []
  }
 ],
 "metadata": {
  "kernelspec": {
   "display_name": "Python 3 (ipykernel)",
   "language": "python",
   "name": "python3"
  },
  "language_info": {
   "codemirror_mode": {
    "name": "ipython",
    "version": 3
   },
   "file_extension": ".py",
   "mimetype": "text/x-python",
   "name": "python",
   "nbconvert_exporter": "python",
   "pygments_lexer": "ipython3",
   "version": "3.9.13"
  }
 },
 "nbformat": 4,
 "nbformat_minor": 5
}

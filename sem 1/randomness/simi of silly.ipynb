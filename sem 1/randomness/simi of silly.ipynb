{
 "cells": [
  {
   "cell_type": "code",
   "execution_count": 1,
   "id": "ef1cbb46",
   "metadata": {},
   "outputs": [
    {
     "name": "stdout",
     "output_type": "stream",
     "text": [
      "Estimated number of attempts needed: 29.33\n"
     ]
    }
   ],
   "source": [
    "import random\n",
    "\n",
    "def estimate_attempts():\n",
    "    numbers_seen = set()\n",
    "    attempts = 0\n",
    "    \n",
    "    while len(numbers_seen) < 10:  \n",
    "        random_number = random.randint(1, 10)\n",
    "        numbers_seen.add(random_number)\n",
    "        attempts += 1\n",
    "    \n",
    "    return attempts\n",
    "\n",
    "simulations = 10000\n",
    "total_attempts = sum(estimate_attempts() for _ in range(simulations))\n",
    "average_attempts = total_attempts / simulations\n",
    "\n",
    "print(f\"Estimated number of attempts needed: {average_attempts:.2f}\")\n"
   ]
  },
  {
   "cell_type": "code",
   "execution_count": 2,
   "id": "fad1a287",
   "metadata": {},
   "outputs": [
    {
     "name": "stdout",
     "output_type": "stream",
     "text": [
      "Estimated proportions of each color: {'red': 0.344, 'green': 0.327, 'blue': 0.329}\n"
     ]
    }
   ],
   "source": [
    "from collections import Counter\n",
    "\n",
    "def simulate_marbles(num_draws=1000):\n",
    "    colors = ['red', 'green', 'blue'] \n",
    "\n",
    "    draws = [random.choice(colors) for _ in range(num_draws)]\n",
    "\n",
    "    color_counts = Counter(draws)\n",
    "    \n",
    "    proportions = {color: count / num_draws for color, count in color_counts.items()}\n",
    "    \n",
    "    return proportions\n",
    "\n",
    "estimated_proportions = simulate_marbles()\n",
    "print(\"Estimated proportions of each color:\", estimated_proportions)\n"
   ]
  },
  {
   "cell_type": "code",
   "execution_count": 3,
   "id": "76ad148d",
   "metadata": {},
   "outputs": [
    {
     "name": "stdout",
     "output_type": "stream",
     "text": [
      "Expected number of boxes to collect all three cards: 6.71\n"
     ]
    }
   ],
   "source": [
    "import random\n",
    "\n",
    "def simulate_cereal_boxes():\n",
    "\n",
    "    athletes = ['Tiger Woods', 'Cristiano Ronaldo', 'Serena Williams']\n",
    "    probabilities = [0.2, 0.3, 0.5]\n",
    "    \n",
    "    boxes_opened = 0\n",
    "    collected_cards = set()\n",
    "    \n",
    "    while len(collected_cards) < 3:  \n",
    "        card = random.choices(athletes, weights=probabilities, k=1)[0]\n",
    "        collected_cards.add(card)\n",
    "        boxes_opened += 1\n",
    "    \n",
    "    return boxes_opened\n",
    "\n",
    "num_trials = 10000\n",
    "total_boxes = sum(simulate_cereal_boxes() for _ in range(num_trials))\n",
    "average_boxes = total_boxes / num_trials\n",
    "\n",
    "print(f\"Expected number of boxes to collect all three cards: {average_boxes:.2f}\")\n"
   ]
  },
  {
   "cell_type": "code",
   "execution_count": null,
   "id": "e0a448d8",
   "metadata": {},
   "outputs": [],
   "source": []
  }
 ],
 "metadata": {
  "kernelspec": {
   "display_name": "Python 3 (ipykernel)",
   "language": "python",
   "name": "python3"
  },
  "language_info": {
   "codemirror_mode": {
    "name": "ipython",
    "version": 3
   },
   "file_extension": ".py",
   "mimetype": "text/x-python",
   "name": "python",
   "nbconvert_exporter": "python",
   "pygments_lexer": "ipython3",
   "version": "3.9.13"
  }
 },
 "nbformat": 4,
 "nbformat_minor": 5
}

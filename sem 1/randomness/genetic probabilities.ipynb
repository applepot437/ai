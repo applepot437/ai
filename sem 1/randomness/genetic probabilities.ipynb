{
 "cells": [
  {
   "cell_type": "code",
   "execution_count": 1,
   "id": "a764c913",
   "metadata": {},
   "outputs": [
    {
     "name": "stdout",
     "output_type": "stream",
     "text": [
      "The estimated probability that the child will dislike cilantro is: 0.50\n"
     ]
    }
   ],
   "source": [
    "import random\n",
    "\n",
    "# Probabilities for each genotype\n",
    "# ss: 100% hate cilantro cuz it tastes like soap 'n'\n",
    "# SS: 0% hate cilantro cuz it doesnt taste like soap 'U'\n",
    "# Ss: 50% chance to dislike cilantro due to partial sensitivity\n",
    "\n",
    "def simulate_cilantro_preference(trials=10000):\n",
    "    dislikes = 0\n",
    "    \n",
    "    for _ in range(trials):\n",
    "        child_genotype = 'Ss'\n",
    "\n",
    "        if child_genotype == 'Ss':\n",
    "            dislikes += random.random() < 0.5  \n",
    "        \n",
    "    probability_dislike = dislikes / trials\n",
    "    return probability_dislike\n",
    "\n",
    "probability_dislike = simulate_cilantro_preference()\n",
    "print(f\"The estimated probability that the child will dislike cilantro is: {probability_dislike:.2f}\")\n"
   ]
  },
  {
   "cell_type": "code",
   "execution_count": null,
   "id": "95dcba47",
   "metadata": {},
   "outputs": [],
   "source": []
  }
 ],
 "metadata": {
  "kernelspec": {
   "display_name": "Python 3 (ipykernel)",
   "language": "python",
   "name": "python3"
  },
  "language_info": {
   "codemirror_mode": {
    "name": "ipython",
    "version": 3
   },
   "file_extension": ".py",
   "mimetype": "text/x-python",
   "name": "python",
   "nbconvert_exporter": "python",
   "pygments_lexer": "ipython3",
   "version": "3.9.13"
  }
 },
 "nbformat": 4,
 "nbformat_minor": 5
}

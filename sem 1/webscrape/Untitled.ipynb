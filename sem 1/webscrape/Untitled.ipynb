{
 "cells": [
  {
   "cell_type": "code",
   "execution_count": 5,
   "id": "25366625",
   "metadata": {},
   "outputs": [],
   "source": [
    "import requests\n",
    "from bs4 import BeautifulSoup"
   ]
  },
  {
   "cell_type": "code",
   "execution_count": 6,
   "id": "cc061049",
   "metadata": {},
   "outputs": [],
   "source": [
    "url = \"https://www.scrapethissite.com/pages/simple/\"\n",
    "response = requests.get(url)\n",
    "html_content = response.text\n",
    "soup = BeautifulSoup(html_content, \"html.parser\")"
   ]
  },
  {
   "cell_type": "code",
   "execution_count": 7,
   "id": "e135192e",
   "metadata": {},
   "outputs": [],
   "source": [
    "h3s = soup.find_all(\"h3\")\n",
    "countries = []\n",
    "for h3 in h3s:\n",
    "    country = h3.get_text()\n",
    "    country = country.strip()\n",
    "    countries.append(country)"
   ]
  },
  {
   "cell_type": "code",
   "execution_count": 9,
   "id": "4ed425bc",
   "metadata": {},
   "outputs": [
    {
     "name": "stdout",
     "output_type": "stream",
     "text": [
      "Total countries: 250\n",
      "Countries with 'A': 213\n",
      "Probability of selecting a country with 'A' once: 0.85\n",
      "Probability of selecting a country with 'A' three times in a row: 0.6185\n"
     ]
    }
   ],
   "source": [
    "soup = BeautifulSoup(html_content, 'html.parser')\n",
    "\n",
    "country_elements = soup.select('h3')  \n",
    "countries = [element.get_text(strip=True) for element in country_elements]\n",
    "\n",
    "countries_with_a = [country for country in countries if 'a' in country.lower()]\n",
    "\n",
    "total_countries = len(countries)\n",
    "count_with_a = len(countries_with_a)\n",
    "probability_with_a = count_with_a / total_countries if total_countries > 0 else 0\n",
    "\n",
    "probability_three_times = probability_with_a ** 3\n",
    "\n",
    "print(f\"Total countries: {total_countries}\")\n",
    "print(f\"Countries with 'A': {count_with_a}\")\n",
    "print(f\"Probability of selecting a country with 'A' once: {probability_with_a:.2f}\")\n",
    "print(f\"Probability of selecting a country with 'A' three times in a row: {probability_three_times:.4f}\")"
   ]
  },
  {
   "cell_type": "code",
   "execution_count": 10,
   "id": "8a60c518",
   "metadata": {},
   "outputs": [],
   "source": [
    "url = \"https://www.scrapethissite.com/pages/forms/\"\n",
    "response = requests.get(url)\n",
    "html_content = response.text\n",
    "soup = BeautifulSoup(html_content, \"html.parser\")"
   ]
  },
  {
   "cell_type": "code",
   "execution_count": 11,
   "id": "cfbd000a",
   "metadata": {},
   "outputs": [
    {
     "name": "stdout",
     "output_type": "stream",
     "text": [
      "Total teams: 25\n",
      "Teams with at least 30 wins: 25\n",
      "Probability of selecting three teams with at least 30 wins in a row: 1.0000\n"
     ]
    }
   ],
   "source": [
    "# Step 3: Extract the list of teams and their win records\n",
    "# Assuming each team is within a tag like <tr> with <td> cells for name and wins\n",
    "# Modify this selector based on the HTML structure of the actual website\n",
    "team_rows = soup.select('table td')  # Change the selector as needed\n",
    "teams = []\n",
    "\n",
    "for row in team_rows:\n",
    "    cells = row.find_all('td')\n",
    "    if len(cells) >= 2:  # Make sure we have enough columns\n",
    "        team_name = cells[0].get_text(strip=True)\n",
    "        try:\n",
    "            wins = int(cells[1].get_text(strip=True))  # Convert win count to an integer\n",
    "            teams.append({'name': team_name, 'wins': wins})\n",
    "        except ValueError:\n",
    "            continue  # Skip rows where wins are not integers\n",
    "\n",
    "# Step 4: Filter teams that have won at least 30 games\n",
    "teams_with_30_plus_wins = [team for team in teams if team['wins'] >= 30]\n",
    "\n",
    "# Step 5: Calculate the probability of selecting three teams with at least 30 wins in a row (without replacement)\n",
    "total_teams = len(teams)\n",
    "eligible_teams = len(teams_with_30_plus_wins)\n",
    "\n",
    "# Probability of selecting a team with 30+ wins on the first, second, and third draw without replacement\n",
    "if eligible_teams >= 3:\n",
    "    prob_first = eligible_teams / total_teams\n",
    "    prob_second = (eligible_teams - 1) / (total_teams - 1)\n",
    "    prob_third = (eligible_teams - 2) / (total_teams - 2)\n",
    "\n",
    "    probability_three_in_a_row = prob_first * prob_second * prob_third\n",
    "else:\n",
    "    probability_three_in_a_row = 0  # Not enough eligible teams\n",
    "\n",
    "# Output the results\n",
    "print(f\"Total teams: {total_teams}\")\n",
    "print(f\"Teams with at least 30 wins: {eligible_teams}\")\n",
    "print(f\"Probability of selecting three teams with at least 30 wins in a row: {probability_three_in_a_row:.4f}\")\n"
   ]
  },
  {
   "cell_type": "code",
   "execution_count": null,
   "id": "b51570c6",
   "metadata": {},
   "outputs": [],
   "source": []
  }
 ],
 "metadata": {
  "kernelspec": {
   "display_name": "Python 3 (ipykernel)",
   "language": "python",
   "name": "python3"
  },
  "language_info": {
   "codemirror_mode": {
    "name": "ipython",
    "version": 3
   },
   "file_extension": ".py",
   "mimetype": "text/x-python",
   "name": "python",
   "nbconvert_exporter": "python",
   "pygments_lexer": "ipython3",
   "version": "3.9.13"
  }
 },
 "nbformat": 4,
 "nbformat_minor": 5
}

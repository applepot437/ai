{
 "cells": [
  {
   "cell_type": "code",
   "execution_count": 9,
   "id": "25366625",
   "metadata": {},
   "outputs": [],
   "source": [
    "import requests\n",
    "from bs4 import BeautifulSoup\n",
    "import random"
   ]
  },
  {
   "cell_type": "code",
   "execution_count": 4,
   "id": "cc061049",
   "metadata": {},
   "outputs": [],
   "source": [
    "url = \"https://www.scrapethissite.com/pages/simple/\"\n",
    "response = requests.get(url)\n",
    "html_content = response.text\n",
    "soup = BeautifulSoup(html_content, \"html.parser\")"
   ]
  },
  {
   "cell_type": "code",
   "execution_count": 5,
   "id": "e135192e",
   "metadata": {},
   "outputs": [],
   "source": [
    "h3s = soup.find_all(\"h3\")\n",
    "countries = []\n",
    "for h3 in h3s:\n",
    "    country = h3.get_text()\n",
    "    country = country.strip()\n",
    "    countries.append(country)"
   ]
  },
  {
   "cell_type": "code",
   "execution_count": 6,
   "id": "4ed425bc",
   "metadata": {
    "scrolled": true
   },
   "outputs": [
    {
     "name": "stdout",
     "output_type": "stream",
     "text": [
      "Total countries: 250\n",
      "Countries with 'A': 213\n",
      "Probability of selecting a country with 'A' once: 0.85\n",
      "Probability of selecting a country with 'A' three times in a row: 0.6185\n"
     ]
    }
   ],
   "source": [
    "soup = BeautifulSoup(html_content, 'html.parser')\n",
    "\n",
    "country_elements = soup.select('h3')  \n",
    "countries = [element.get_text(strip=True) for element in country_elements]\n",
    "\n",
    "countries_with_a = [country for country in countries if 'a' in country.lower()]\n",
    "\n",
    "total_countries = len(countries)\n",
    "count_with_a = len(countries_with_a)\n",
    "probability_with_a = count_with_a / total_countries if total_countries > 0 else 0\n",
    "\n",
    "probability_three_times = probability_with_a ** 3\n",
    "\n",
    "print(f\"Total countries: {total_countries}\")\n",
    "print(f\"Countries with 'A': {count_with_a}\")\n",
    "print(f\"Probability of selecting a country with 'A' once: {probability_with_a:.2f}\")\n",
    "print(f\"Probability of selecting a country with 'A' three times in a row: {probability_three_times:.4f}\")"
   ]
  },
  {
   "cell_type": "code",
   "execution_count": 7,
   "id": "8a60c518",
   "metadata": {},
   "outputs": [],
   "source": [
    "url = \"https://www.scrapethissite.com/pages/forms/\"\n",
    "response = requests.get(url)\n",
    "html_content = response.text\n",
    "soup = BeautifulSoup(html_content, \"html.parser\")"
   ]
  },
  {
   "cell_type": "code",
   "execution_count": 10,
   "id": "cfbd000a",
   "metadata": {},
   "outputs": [
    {
     "name": "stdout",
     "output_type": "stream",
     "text": [
      "The probability of selecting three teams with at least 30 wins in a row is: 0.00\n"
     ]
    }
   ],
   "source": [
    "teams_data = []\n",
    "for team in soup.find_all('div', class_='team-info'): \n",
    "    name = team.find('span', class_='team-name').text\n",
    "    wins = int(team.find('span', class_='wins').text)\n",
    "    teams_data.append({'name': name, 'wins': wins})\n",
    "\n",
    "qualified_teams = [team for team in teams_data if team['wins'] >= 30]\n",
    "\n",
    "total_teams = len(qualified_teams)\n",
    "if total_teams >= 3:\n",
    "    prob_first = 1  \n",
    "    prob_second = (total_teams - 1) / total_teams\n",
    "    prob_third = (total_teams - 2) / (total_teams - 1)\n",
    "    probability = prob_first * prob_second * prob_third\n",
    "else:\n",
    "    probability = 0  \n",
    "\n",
    "print(f\"The probability of selecting three teams with at least 30 wins in a row is: {probability:.2f}\")\n"
   ]
  },
  {
   "cell_type": "code",
   "execution_count": null,
   "id": "b51570c6",
   "metadata": {},
   "outputs": [],
   "source": []
  },
  {
   "cell_type": "code",
   "execution_count": null,
   "id": "3970c4b5",
   "metadata": {},
   "outputs": [],
   "source": []
  }
 ],
 "metadata": {
  "kernelspec": {
   "display_name": "Python 3 (ipykernel)",
   "language": "python",
   "name": "python3"
  },
  "language_info": {
   "codemirror_mode": {
    "name": "ipython",
    "version": 3
   },
   "file_extension": ".py",
   "mimetype": "text/x-python",
   "name": "python",
   "nbconvert_exporter": "python",
   "pygments_lexer": "ipython3",
   "version": "3.9.13"
  }
 },
 "nbformat": 4,
 "nbformat_minor": 5
}

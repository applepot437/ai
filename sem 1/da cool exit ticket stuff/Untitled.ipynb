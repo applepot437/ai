{
 "cells": [
  {
   "cell_type": "code",
   "execution_count": 1,
   "id": "a8da6549",
   "metadata": {},
   "outputs": [],
   "source": [
    "import pandas as pd"
   ]
  },
  {
   "cell_type": "code",
   "execution_count": 2,
   "id": "ac1e44bf",
   "metadata": {},
   "outputs": [],
   "source": [
    "df = pd.read_csv(\"estonia.csv\")"
   ]
  },
  {
   "cell_type": "code",
   "execution_count": 3,
   "id": "80260347",
   "metadata": {},
   "outputs": [],
   "source": [
    "Sex_counts = df['Sex'].value_counts()"
   ]
  },
  {
   "cell_type": "code",
   "execution_count": 4,
   "id": "fae37ad1",
   "metadata": {},
   "outputs": [
    {
     "name": "stdout",
     "output_type": "stream",
     "text": [
      "M    503\n",
      "F    486\n",
      "Name: Sex, dtype: int64\n"
     ]
    }
   ],
   "source": [
    "print(Sex_counts)"
   ]
  },
  {
   "cell_type": "code",
   "execution_count": 6,
   "id": "df6380f7",
   "metadata": {},
   "outputs": [
    {
     "data": {
      "text/html": [
       "<div>\n",
       "<style scoped>\n",
       "    .dataframe tbody tr th:only-of-type {\n",
       "        vertical-align: middle;\n",
       "    }\n",
       "\n",
       "    .dataframe tbody tr th {\n",
       "        vertical-align: top;\n",
       "    }\n",
       "\n",
       "    .dataframe thead th {\n",
       "        text-align: right;\n",
       "    }\n",
       "</style>\n",
       "<table border=\"1\" class=\"dataframe\">\n",
       "  <thead>\n",
       "    <tr style=\"text-align: right;\">\n",
       "      <th></th>\n",
       "      <th>Male</th>\n",
       "      <th>Female</th>\n",
       "    </tr>\n",
       "  </thead>\n",
       "  <tbody>\n",
       "    <tr>\n",
       "      <th>Survived</th>\n",
       "      <td>110</td>\n",
       "      <td>27</td>\n",
       "    </tr>\n",
       "    <tr>\n",
       "      <th>Died</th>\n",
       "      <td>393</td>\n",
       "      <td>459</td>\n",
       "    </tr>\n",
       "  </tbody>\n",
       "</table>\n",
       "</div>"
      ],
      "text/plain": [
       "          Male  Female\n",
       "Survived   110      27\n",
       "Died       393     459"
      ]
     },
     "execution_count": 6,
     "metadata": {},
     "output_type": "execute_result"
    }
   ],
   "source": [
    "maleSurvive = 0\n",
    "femaleSurvive = 0\n",
    "maleDied = 0\n",
    "femaleDied = 0\n",
    "for idx in range(len(df)):\n",
    "    if df.loc[idx][\"Sex\"] == \"M\" and df.loc[idx][\"Survived\"] == 0:\n",
    "        maleDied +=1\n",
    "    elif df.loc[idx][\"Sex\"] == \"M\" and df.loc[idx][\"Survived\"] == 1:\n",
    "        maleSurvive +=1\n",
    "    elif df.loc[idx][\"Sex\"] == \"F\" and df.loc[idx][\"Survived\"] == 0:\n",
    "        femaleDied +=1\n",
    "    elif df.loc[idx][\"Sex\"] == \"F\" and df.loc[idx][\"Survived\"] == 1:\n",
    "        femaleSurvive +=1\n",
    "conTable = pd.DataFrame({\n",
    "    \"Male\": [maleSurvive, maleDied],\n",
    "    \"Female\": [femaleSurvive, femaleDied]\n",
    "})\n",
    "conTable.index = [\"Survived\", \"Died\"]\n",
    "conTable.head()"
   ]
  },
  {
   "cell_type": "code",
   "execution_count": null,
   "id": "d4e47521",
   "metadata": {},
   "outputs": [],
   "source": []
  }
 ],
 "metadata": {
  "kernelspec": {
   "display_name": "Python 3 (ipykernel)",
   "language": "python",
   "name": "python3"
  },
  "language_info": {
   "codemirror_mode": {
    "name": "ipython",
    "version": 3
   },
   "file_extension": ".py",
   "mimetype": "text/x-python",
   "name": "python",
   "nbconvert_exporter": "python",
   "pygments_lexer": "ipython3",
   "version": "3.9.13"
  }
 },
 "nbformat": 4,
 "nbformat_minor": 5
}

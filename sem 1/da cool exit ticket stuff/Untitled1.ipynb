{
 "cells": [
  {
   "cell_type": "code",
   "execution_count": 9,
   "id": "a5f85f73",
   "metadata": {},
   "outputs": [],
   "source": [
    "import pandas as pd\n",
    "import seaborn as sns"
   ]
  },
  {
   "cell_type": "code",
   "execution_count": 10,
   "id": "90e7b1fa",
   "metadata": {},
   "outputs": [],
   "source": [
    "df1 = pd.read_json(\"french_movies.json\")\n",
    "df2 = pd.read_json(\"english_movies.json\")"
   ]
  },
  {
   "cell_type": "code",
   "execution_count": 11,
   "id": "9cebb4cb",
   "metadata": {},
   "outputs": [
    {
     "data": {
      "text/html": [
       "<div>\n",
       "<style scoped>\n",
       "    .dataframe tbody tr th:only-of-type {\n",
       "        vertical-align: middle;\n",
       "    }\n",
       "\n",
       "    .dataframe tbody tr th {\n",
       "        vertical-align: top;\n",
       "    }\n",
       "\n",
       "    .dataframe thead th {\n",
       "        text-align: right;\n",
       "    }\n",
       "</style>\n",
       "<table border=\"1\" class=\"dataframe\">\n",
       "  <thead>\n",
       "    <tr style=\"text-align: right;\">\n",
       "      <th></th>\n",
       "      <th>adult</th>\n",
       "      <th>backdrop_path</th>\n",
       "      <th>genre_ids</th>\n",
       "      <th>id</th>\n",
       "      <th>original_language</th>\n",
       "      <th>original_title</th>\n",
       "      <th>overview</th>\n",
       "      <th>popularity</th>\n",
       "      <th>poster_path</th>\n",
       "      <th>release_date</th>\n",
       "      <th>title</th>\n",
       "      <th>video</th>\n",
       "      <th>vote_average</th>\n",
       "      <th>vote_count</th>\n",
       "      <th>budget</th>\n",
       "      <th>revenue</th>\n",
       "    </tr>\n",
       "  </thead>\n",
       "  <tbody>\n",
       "    <tr>\n",
       "      <th>0</th>\n",
       "      <td>False</td>\n",
       "      <td>/i9qxG4UVgfX4AdMGnfRzMYEowLQ.jpg</td>\n",
       "      <td>12</td>\n",
       "      <td>1084736</td>\n",
       "      <td>fr</td>\n",
       "      <td>Le Comte de Monte-Cristo</td>\n",
       "      <td>Edmond Dantes becomes the target of a sinister...</td>\n",
       "      <td>170.237</td>\n",
       "      <td>/sAT1P3FGhtJ68anUyJScnMu8t1l.jpg</td>\n",
       "      <td>2024-06-28</td>\n",
       "      <td>The Count of Monte-Cristo</td>\n",
       "      <td>False</td>\n",
       "      <td>8.394</td>\n",
       "      <td>623</td>\n",
       "      <td>46700000</td>\n",
       "      <td>65594097</td>\n",
       "    </tr>\n",
       "    <tr>\n",
       "      <th>1</th>\n",
       "      <td>False</td>\n",
       "      <td>/i9qxG4UVgfX4AdMGnfRzMYEowLQ.jpg</td>\n",
       "      <td>12</td>\n",
       "      <td>1084736</td>\n",
       "      <td>fr</td>\n",
       "      <td>Le Comte de Monte-Cristo</td>\n",
       "      <td>Edmond Dantes becomes the target of a sinister...</td>\n",
       "      <td>170.237</td>\n",
       "      <td>/sAT1P3FGhtJ68anUyJScnMu8t1l.jpg</td>\n",
       "      <td>2024-06-28</td>\n",
       "      <td>The Count of Monte-Cristo</td>\n",
       "      <td>False</td>\n",
       "      <td>8.394</td>\n",
       "      <td>623</td>\n",
       "      <td>46700000</td>\n",
       "      <td>65594097</td>\n",
       "    </tr>\n",
       "    <tr>\n",
       "      <th>2</th>\n",
       "      <td>False</td>\n",
       "      <td>/i9qxG4UVgfX4AdMGnfRzMYEowLQ.jpg</td>\n",
       "      <td>12</td>\n",
       "      <td>1084736</td>\n",
       "      <td>fr</td>\n",
       "      <td>Le Comte de Monte-Cristo</td>\n",
       "      <td>Edmond Dantes becomes the target of a sinister...</td>\n",
       "      <td>170.237</td>\n",
       "      <td>/sAT1P3FGhtJ68anUyJScnMu8t1l.jpg</td>\n",
       "      <td>2024-06-28</td>\n",
       "      <td>The Count of Monte-Cristo</td>\n",
       "      <td>False</td>\n",
       "      <td>8.394</td>\n",
       "      <td>623</td>\n",
       "      <td>46700000</td>\n",
       "      <td>65594097</td>\n",
       "    </tr>\n",
       "    <tr>\n",
       "      <th>3</th>\n",
       "      <td>False</td>\n",
       "      <td>/i9qxG4UVgfX4AdMGnfRzMYEowLQ.jpg</td>\n",
       "      <td>12</td>\n",
       "      <td>1084736</td>\n",
       "      <td>fr</td>\n",
       "      <td>Le Comte de Monte-Cristo</td>\n",
       "      <td>Edmond Dantes becomes the target of a sinister...</td>\n",
       "      <td>170.237</td>\n",
       "      <td>/sAT1P3FGhtJ68anUyJScnMu8t1l.jpg</td>\n",
       "      <td>2024-06-28</td>\n",
       "      <td>The Count of Monte-Cristo</td>\n",
       "      <td>False</td>\n",
       "      <td>8.394</td>\n",
       "      <td>623</td>\n",
       "      <td>46700000</td>\n",
       "      <td>65594097</td>\n",
       "    </tr>\n",
       "    <tr>\n",
       "      <th>4</th>\n",
       "      <td>False</td>\n",
       "      <td>/i9qxG4UVgfX4AdMGnfRzMYEowLQ.jpg</td>\n",
       "      <td>12</td>\n",
       "      <td>1084736</td>\n",
       "      <td>fr</td>\n",
       "      <td>Le Comte de Monte-Cristo</td>\n",
       "      <td>Edmond Dantes becomes the target of a sinister...</td>\n",
       "      <td>170.237</td>\n",
       "      <td>/sAT1P3FGhtJ68anUyJScnMu8t1l.jpg</td>\n",
       "      <td>2024-06-28</td>\n",
       "      <td>The Count of Monte-Cristo</td>\n",
       "      <td>False</td>\n",
       "      <td>8.394</td>\n",
       "      <td>623</td>\n",
       "      <td>46700000</td>\n",
       "      <td>65594097</td>\n",
       "    </tr>\n",
       "  </tbody>\n",
       "</table>\n",
       "</div>"
      ],
      "text/plain": [
       "   adult                     backdrop_path  genre_ids       id  \\\n",
       "0  False  /i9qxG4UVgfX4AdMGnfRzMYEowLQ.jpg         12  1084736   \n",
       "1  False  /i9qxG4UVgfX4AdMGnfRzMYEowLQ.jpg         12  1084736   \n",
       "2  False  /i9qxG4UVgfX4AdMGnfRzMYEowLQ.jpg         12  1084736   \n",
       "3  False  /i9qxG4UVgfX4AdMGnfRzMYEowLQ.jpg         12  1084736   \n",
       "4  False  /i9qxG4UVgfX4AdMGnfRzMYEowLQ.jpg         12  1084736   \n",
       "\n",
       "  original_language            original_title  \\\n",
       "0                fr  Le Comte de Monte-Cristo   \n",
       "1                fr  Le Comte de Monte-Cristo   \n",
       "2                fr  Le Comte de Monte-Cristo   \n",
       "3                fr  Le Comte de Monte-Cristo   \n",
       "4                fr  Le Comte de Monte-Cristo   \n",
       "\n",
       "                                            overview  popularity  \\\n",
       "0  Edmond Dantes becomes the target of a sinister...     170.237   \n",
       "1  Edmond Dantes becomes the target of a sinister...     170.237   \n",
       "2  Edmond Dantes becomes the target of a sinister...     170.237   \n",
       "3  Edmond Dantes becomes the target of a sinister...     170.237   \n",
       "4  Edmond Dantes becomes the target of a sinister...     170.237   \n",
       "\n",
       "                        poster_path release_date                      title  \\\n",
       "0  /sAT1P3FGhtJ68anUyJScnMu8t1l.jpg   2024-06-28  The Count of Monte-Cristo   \n",
       "1  /sAT1P3FGhtJ68anUyJScnMu8t1l.jpg   2024-06-28  The Count of Monte-Cristo   \n",
       "2  /sAT1P3FGhtJ68anUyJScnMu8t1l.jpg   2024-06-28  The Count of Monte-Cristo   \n",
       "3  /sAT1P3FGhtJ68anUyJScnMu8t1l.jpg   2024-06-28  The Count of Monte-Cristo   \n",
       "4  /sAT1P3FGhtJ68anUyJScnMu8t1l.jpg   2024-06-28  The Count of Monte-Cristo   \n",
       "\n",
       "   video  vote_average  vote_count    budget   revenue  \n",
       "0  False         8.394         623  46700000  65594097  \n",
       "1  False         8.394         623  46700000  65594097  \n",
       "2  False         8.394         623  46700000  65594097  \n",
       "3  False         8.394         623  46700000  65594097  \n",
       "4  False         8.394         623  46700000  65594097  "
      ]
     },
     "execution_count": 11,
     "metadata": {},
     "output_type": "execute_result"
    }
   ],
   "source": [
    "df1.head()"
   ]
  },
  {
   "cell_type": "code",
   "execution_count": 12,
   "id": "1ae48afb",
   "metadata": {},
   "outputs": [
    {
     "data": {
      "text/plain": [
       "<AxesSubplot:xlabel='budget', ylabel='popularity'>"
      ]
     },
     "execution_count": 12,
     "metadata": {},
     "output_type": "execute_result"
    },
    {
     "data": {
      "image/png": "[encoded data removed]",
      "text/plain": [
       "<Figure size 640x480 with 1 Axes>"
      ]
     },
     "metadata": {},
     "output_type": "display_data"
    }
   ],
   "source": [
    "sns.regplot(data=df1, x=\"budget\", y=\"popularity\")\n",
    "sns.regplot(data=df2, x=\"budget\", y=\"popularity\")"
   ]
  },
  {
   "cell_type": "code",
   "execution_count": null,
   "id": "74413784",
   "metadata": {},
   "outputs": [],
   "source": []
  },
  {
   "cell_type": "code",
   "execution_count": null,
   "id": "f07cc250",
   "metadata": {},
   "outputs": [],
   "source": []
  }
 ],
 "metadata": {
  "kernelspec": {
   "display_name": "Python 3 (ipykernel)",
   "language": "python",
   "name": "python3"
  },
  "language_info": {
   "codemirror_mode": {
    "name": "ipython",
    "version": 3
   },
   "file_extension": ".py",
   "mimetype": "text/x-python",
   "name": "python",
   "nbconvert_exporter": "python",
   "pygments_lexer": "ipython3",
   "version": "3.9.13"
  }
 },
 "nbformat": 4,
 "nbformat_minor": 5
}

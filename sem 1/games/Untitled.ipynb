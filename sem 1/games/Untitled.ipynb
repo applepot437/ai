{
 "cells": [
  {
   "cell_type": "code",
   "execution_count": 16,
   "id": "a86f9206",
   "metadata": {},
   "outputs": [],
   "source": [
    "import pandas as pd\n",
    "import seaborn as sns\n",
    "df = pd.read_json(\"games.json\")"
   ]
  },
  {
   "cell_type": "code",
   "execution_count": 2,
   "id": "401395a9",
   "metadata": {},
   "outputs": [
    {
     "data": {
      "text/html": [
       "<div>\n",
       "<style scoped>\n",
       "    .dataframe tbody tr th:only-of-type {\n",
       "        vertical-align: middle;\n",
       "    }\n",
       "\n",
       "    .dataframe tbody tr th {\n",
       "        vertical-align: top;\n",
       "    }\n",
       "\n",
       "    .dataframe thead th {\n",
       "        text-align: right;\n",
       "    }\n",
       "</style>\n",
       "<table border=\"1\" class=\"dataframe\">\n",
       "  <thead>\n",
       "    <tr style=\"text-align: right;\">\n",
       "      <th></th>\n",
       "      <th>ID</th>\n",
       "      <th>name</th>\n",
       "      <th>release_date</th>\n",
       "      <th>estimated_owners</th>\n",
       "      <th>peak_ccu</th>\n",
       "      <th>required_age</th>\n",
       "      <th>price</th>\n",
       "      <th>dlc_count</th>\n",
       "      <th>main_description</th>\n",
       "      <th>supported_languages</th>\n",
       "      <th>...</th>\n",
       "      <th>average_playtime_forever</th>\n",
       "      <th>average_playtime_2weeks</th>\n",
       "      <th>median_playtime_forever</th>\n",
       "      <th>packages</th>\n",
       "      <th>developers</th>\n",
       "      <th>publishers</th>\n",
       "      <th>categories</th>\n",
       "      <th>genres</th>\n",
       "      <th>tags</th>\n",
       "      <th>screenshots</th>\n",
       "    </tr>\n",
       "  </thead>\n",
       "  <tbody>\n",
       "    <tr>\n",
       "      <th>1025</th>\n",
       "      <td>22380</td>\n",
       "      <td>Fallout: New Vegas</td>\n",
       "      <td>Oct 19, 2010</td>\n",
       "      <td>2000000 - 5000000</td>\n",
       "      <td>5776</td>\n",
       "      <td>16</td>\n",
       "      <td>9.99</td>\n",
       "      <td>0</td>\n",
       "      <td>Welcome to Vegas. New Vegas. It’s the kind of ...</td>\n",
       "      <td>['English', 'French', 'German', 'Italian', 'Sp...</td>\n",
       "      <td>...</td>\n",
       "      <td>3044</td>\n",
       "      <td>112</td>\n",
       "      <td>976</td>\n",
       "      <td>153</td>\n",
       "      <td>Obsidian Entertainment</td>\n",
       "      <td>Bethesda Softworks</td>\n",
       "      <td>Single-player,Steam Achievements,Partial Contr...</td>\n",
       "      <td>Action,RPG</td>\n",
       "      <td>Open World,RPG,Post-apocalyptic,Singleplayer,M...</td>\n",
       "      <td>https://cdn.akamai.steamstatic.com/steam/apps/...</td>\n",
       "    </tr>\n",
       "  </tbody>\n",
       "</table>\n",
       "<p>1 rows × 38 columns</p>\n",
       "</div>"
      ],
      "text/plain": [
       "         ID                name  release_date   estimated_owners  peak_ccu  \\\n",
       "1025  22380  Fallout: New Vegas  Oct 19, 2010  2000000 - 5000000      5776   \n",
       "\n",
       "      required_age  price  dlc_count  \\\n",
       "1025            16   9.99          0   \n",
       "\n",
       "                                       main_description  \\\n",
       "1025  Welcome to Vegas. New Vegas. It’s the kind of ...   \n",
       "\n",
       "                                    supported_languages  ...  \\\n",
       "1025  ['English', 'French', 'German', 'Italian', 'Sp...  ...   \n",
       "\n",
       "     average_playtime_forever average_playtime_2weeks median_playtime_forever  \\\n",
       "1025                     3044                     112                     976   \n",
       "\n",
       "     packages              developers          publishers  \\\n",
       "1025      153  Obsidian Entertainment  Bethesda Softworks   \n",
       "\n",
       "                                             categories      genres  \\\n",
       "1025  Single-player,Steam Achievements,Partial Contr...  Action,RPG   \n",
       "\n",
       "                                                   tags  \\\n",
       "1025  Open World,RPG,Post-apocalyptic,Singleplayer,M...   \n",
       "\n",
       "                                            screenshots  \n",
       "1025  https://cdn.akamai.steamstatic.com/steam/apps/...  \n",
       "\n",
       "[1 rows x 38 columns]"
      ]
     },
     "execution_count": 2,
     "metadata": {},
     "output_type": "execute_result"
    }
   ],
   "source": [
    "df[df[\"ID\"] == 22380]"
   ]
  },
  {
   "cell_type": "code",
   "execution_count": 3,
   "id": "7723b677",
   "metadata": {},
   "outputs": [
    {
     "data": {
      "text/plain": [
       "ID                                                                      22380\n",
       "name                                                       Fallout: New Vegas\n",
       "release_date                                                     Oct 19, 2010\n",
       "estimated_owners                                            2000000 - 5000000\n",
       "peak_ccu                                                                 5776\n",
       "required_age                                                               16\n",
       "price                                                                    9.99\n",
       "dlc_count                                                                   0\n",
       "main_description            Welcome to Vegas. New Vegas. It’s the kind of ...\n",
       "supported_languages         ['English', 'French', 'German', 'Italian', 'Sp...\n",
       "full_audio_languages                                                       []\n",
       "reviews                                                                  None\n",
       "header_image                https://cdn.akamai.steamstatic.com/steam/apps/...\n",
       "website                                           http://fallout.bethsoft.com\n",
       "support_url                                      http://support.bethsoft.com/\n",
       "support_email                                                            None\n",
       "windows                                                                  True\n",
       "mac                                                                     False\n",
       "linux                                                                   False\n",
       "metacritic_score                                                           84\n",
       "metacriticURL               https://www.metacritic.com/game/pc/fallout-new...\n",
       "user_score                                                                  0\n",
       "positive                                                               154845\n",
       "negative                                                                 5667\n",
       "score_rank                                                                NaN\n",
       "achievements                                                               75\n",
       "recommendations                                                        127087\n",
       "notes                                                                    None\n",
       "average_playtime_forever                                                 3044\n",
       "average_playtime_2weeks                                                   112\n",
       "median_playtime_forever                                                   976\n",
       "packages                                                                  153\n",
       "developers                                             Obsidian Entertainment\n",
       "publishers                                                 Bethesda Softworks\n",
       "categories                  Single-player,Steam Achievements,Partial Contr...\n",
       "genres                                                             Action,RPG\n",
       "tags                        Open World,RPG,Post-apocalyptic,Singleplayer,M...\n",
       "screenshots                 https://cdn.akamai.steamstatic.com/steam/apps/...\n",
       "Name: 1025, dtype: object"
      ]
     },
     "execution_count": 3,
     "metadata": {},
     "output_type": "execute_result"
    }
   ],
   "source": [
    "df.loc[1025]"
   ]
  },
  {
   "cell_type": "code",
   "execution_count": 4,
   "id": "202da77f",
   "metadata": {},
   "outputs": [
    {
     "data": {
      "text/plain": [
       "ID                                                                       7940\n",
       "name                                         Call of Duty® 4: Modern Warfare®\n",
       "release_date                                                     Nov 12, 2007\n",
       "estimated_owners                                            1000000 - 2000000\n",
       "peak_ccu                                                                  495\n",
       "required_age                                                               17\n",
       "price                                                                    9.99\n",
       "dlc_count                                                                   0\n",
       "main_description            The new action-thriller from the award-winning...\n",
       "supported_languages         ['English', 'French', 'German', 'Italian', 'Sp...\n",
       "full_audio_languages                                                       []\n",
       "reviews                     Winner of more than 40 E3 2007 awards : Editor...\n",
       "header_image                https://cdn.akamai.steamstatic.com/steam/apps/...\n",
       "website                                     http://www.charlieoscardelta.com/\n",
       "support_url                                    http://support.activision.com/\n",
       "support_email                                                            None\n",
       "windows                                                                  True\n",
       "mac                                                                      True\n",
       "linux                                                                   False\n",
       "metacritic_score                                                           92\n",
       "metacriticURL               https://www.metacritic.com/game/pc/call-of-dut...\n",
       "user_score                                                                  0\n",
       "positive                                                                16788\n",
       "negative                                                                 1211\n",
       "score_rank                                                                NaN\n",
       "achievements                                                                0\n",
       "recommendations                                                         13997\n",
       "notes                                                                    None\n",
       "average_playtime_forever                                                 1034\n",
       "average_playtime_2weeks                                                    51\n",
       "median_playtime_forever                                                   449\n",
       "packages                                                                   51\n",
       "developers                                                      Infinity Ward\n",
       "publishers                                                         Activision\n",
       "categories                                         Single-player,Multi-player\n",
       "genres                                                                 Action\n",
       "tags                        FPS,Action,Multiplayer,Shooter,Singleplayer,Fi...\n",
       "screenshots                 https://cdn.akamai.steamstatic.com/steam/apps/...\n",
       "Name: 136, dtype: object"
      ]
     },
     "execution_count": 4,
     "metadata": {},
     "output_type": "execute_result"
    }
   ],
   "source": [
    "df.loc[136]   "
   ]
  },
  {
   "cell_type": "code",
   "execution_count": 5,
   "id": "f975482a",
   "metadata": {},
   "outputs": [
    {
     "data": {
      "text/plain": [
       "<AxesSubplot:xlabel='price', ylabel='metacritic_score'>"
      ]
     },
     "execution_count": 5,
     "metadata": {},
     "output_type": "execute_result"
    },
    {
     "data": {
      "image/png": "[encoded data removed]",
      "text/plain": [
       "<Figure size 640x480 with 1 Axes>"
      ]
     },
     "metadata": {},
     "output_type": "display_data"
    }
   ],
   "source": [
    "sns.scatterplot(x='price', y='metacritic_score', data=df)"
   ]
  },
  {
   "cell_type": "code",
   "execution_count": 6,
   "id": "2ee32181",
   "metadata": {},
   "outputs": [
    {
     "data": {
      "text/plain": [
       "7.08626157478198"
      ]
     },
     "execution_count": 6,
     "metadata": {},
     "output_type": "execute_result"
    }
   ],
   "source": [
    "df[\"price\"].mean()"
   ]
  },
  {
   "cell_type": "code",
   "execution_count": 7,
   "id": "9789295a",
   "metadata": {},
   "outputs": [
    {
     "data": {
      "text/html": [
       "<div>\n",
       "<style scoped>\n",
       "    .dataframe tbody tr th:only-of-type {\n",
       "        vertical-align: middle;\n",
       "    }\n",
       "\n",
       "    .dataframe tbody tr th {\n",
       "        vertical-align: top;\n",
       "    }\n",
       "\n",
       "    .dataframe thead th {\n",
       "        text-align: right;\n",
       "    }\n",
       "</style>\n",
       "<table border=\"1\" class=\"dataframe\">\n",
       "  <thead>\n",
       "    <tr style=\"text-align: right;\">\n",
       "      <th></th>\n",
       "      <th>ID</th>\n",
       "      <th>name</th>\n",
       "      <th>release_date</th>\n",
       "      <th>estimated_owners</th>\n",
       "      <th>peak_ccu</th>\n",
       "      <th>required_age</th>\n",
       "      <th>price</th>\n",
       "      <th>dlc_count</th>\n",
       "      <th>main_description</th>\n",
       "      <th>supported_languages</th>\n",
       "      <th>...</th>\n",
       "      <th>average_playtime_forever</th>\n",
       "      <th>average_playtime_2weeks</th>\n",
       "      <th>median_playtime_forever</th>\n",
       "      <th>packages</th>\n",
       "      <th>developers</th>\n",
       "      <th>publishers</th>\n",
       "      <th>categories</th>\n",
       "      <th>genres</th>\n",
       "      <th>tags</th>\n",
       "      <th>screenshots</th>\n",
       "    </tr>\n",
       "  </thead>\n",
       "  <tbody>\n",
       "    <tr>\n",
       "      <th>81901</th>\n",
       "      <td>2499620</td>\n",
       "      <td>The Leverage Game</td>\n",
       "      <td>Aug 25, 2023</td>\n",
       "      <td>0 - 20000</td>\n",
       "      <td>0</td>\n",
       "      <td>0</td>\n",
       "      <td>999.98</td>\n",
       "      <td>0</td>\n",
       "      <td>The Leverage Game is a board game in which pla...</td>\n",
       "      <td>['English', 'Japanese']</td>\n",
       "      <td>...</td>\n",
       "      <td>0</td>\n",
       "      <td>0</td>\n",
       "      <td>0</td>\n",
       "      <td>0</td>\n",
       "      <td>A&amp;S Inc.</td>\n",
       "      <td>A&amp;S Inc.</td>\n",
       "      <td>Single-player,Multi-player,PvP,Online PvP</td>\n",
       "      <td>Indie,Simulation</td>\n",
       "      <td>None</td>\n",
       "      <td>https://cdn.akamai.steamstatic.com/steam/apps/...</td>\n",
       "    </tr>\n",
       "    <tr>\n",
       "      <th>82971</th>\n",
       "      <td>2504210</td>\n",
       "      <td>The Leverage Game Business Edition</td>\n",
       "      <td>Aug 26, 2023</td>\n",
       "      <td>0 - 20000</td>\n",
       "      <td>0</td>\n",
       "      <td>0</td>\n",
       "      <td>999.98</td>\n",
       "      <td>0</td>\n",
       "      <td>The Leverage Game is a board game in which pla...</td>\n",
       "      <td>['English', 'Japanese']</td>\n",
       "      <td>...</td>\n",
       "      <td>0</td>\n",
       "      <td>0</td>\n",
       "      <td>0</td>\n",
       "      <td>0</td>\n",
       "      <td>A&amp;S Inc.</td>\n",
       "      <td>A&amp;S Inc.</td>\n",
       "      <td>Single-player,Multi-player,PvP</td>\n",
       "      <td>Indie,Simulation</td>\n",
       "      <td>None</td>\n",
       "      <td>https://cdn.akamai.steamstatic.com/steam/apps/...</td>\n",
       "    </tr>\n",
       "  </tbody>\n",
       "</table>\n",
       "<p>2 rows × 38 columns</p>\n",
       "</div>"
      ],
      "text/plain": [
       "            ID                                name  release_date  \\\n",
       "81901  2499620                   The Leverage Game  Aug 25, 2023   \n",
       "82971  2504210  The Leverage Game Business Edition  Aug 26, 2023   \n",
       "\n",
       "      estimated_owners  peak_ccu  required_age   price  dlc_count  \\\n",
       "81901        0 - 20000         0             0  999.98          0   \n",
       "82971        0 - 20000         0             0  999.98          0   \n",
       "\n",
       "                                        main_description  \\\n",
       "81901  The Leverage Game is a board game in which pla...   \n",
       "82971  The Leverage Game is a board game in which pla...   \n",
       "\n",
       "           supported_languages  ... average_playtime_forever  \\\n",
       "81901  ['English', 'Japanese']  ...                        0   \n",
       "82971  ['English', 'Japanese']  ...                        0   \n",
       "\n",
       "      average_playtime_2weeks median_playtime_forever packages developers  \\\n",
       "81901                       0                       0        0   A&S Inc.   \n",
       "82971                       0                       0        0   A&S Inc.   \n",
       "\n",
       "      publishers                                 categories            genres  \\\n",
       "81901   A&S Inc.  Single-player,Multi-player,PvP,Online PvP  Indie,Simulation   \n",
       "82971   A&S Inc.             Single-player,Multi-player,PvP  Indie,Simulation   \n",
       "\n",
       "       tags                                        screenshots  \n",
       "81901  None  https://cdn.akamai.steamstatic.com/steam/apps/...  \n",
       "82971  None  https://cdn.akamai.steamstatic.com/steam/apps/...  \n",
       "\n",
       "[2 rows x 38 columns]"
      ]
     },
     "execution_count": 7,
     "metadata": {},
     "output_type": "execute_result"
    }
   ],
   "source": [
    "df[df[\"price\"] == 999.98]"
   ]
  },
  {
   "cell_type": "code",
   "execution_count": 8,
   "id": "dd5d3b04",
   "metadata": {},
   "outputs": [],
   "source": [
    "#dfCleaned = df.drop([81901, 82971], inplace=True)"
   ]
  },
  {
   "cell_type": "code",
   "execution_count": 9,
   "id": "f707f871",
   "metadata": {},
   "outputs": [],
   "source": [
    "dfCleaned = df.drop([26936])\n",
    "dfCleaned = dfCleaned.reset_index()"
   ]
  },
  {
   "cell_type": "code",
   "execution_count": 10,
   "id": "f364dab2",
   "metadata": {},
   "outputs": [
    {
     "data": {
      "text/html": [
       "<div>\n",
       "<style scoped>\n",
       "    .dataframe tbody tr th:only-of-type {\n",
       "        vertical-align: middle;\n",
       "    }\n",
       "\n",
       "    .dataframe tbody tr th {\n",
       "        vertical-align: top;\n",
       "    }\n",
       "\n",
       "    .dataframe thead th {\n",
       "        text-align: right;\n",
       "    }\n",
       "</style>\n",
       "<table border=\"1\" class=\"dataframe\">\n",
       "  <thead>\n",
       "    <tr style=\"text-align: right;\">\n",
       "      <th></th>\n",
       "      <th>ID</th>\n",
       "      <th>name</th>\n",
       "      <th>release_date</th>\n",
       "      <th>estimated_owners</th>\n",
       "      <th>peak_ccu</th>\n",
       "      <th>required_age</th>\n",
       "      <th>price</th>\n",
       "      <th>dlc_count</th>\n",
       "      <th>main_description</th>\n",
       "      <th>supported_languages</th>\n",
       "      <th>...</th>\n",
       "      <th>average_playtime_forever</th>\n",
       "      <th>average_playtime_2weeks</th>\n",
       "      <th>median_playtime_forever</th>\n",
       "      <th>packages</th>\n",
       "      <th>developers</th>\n",
       "      <th>publishers</th>\n",
       "      <th>categories</th>\n",
       "      <th>genres</th>\n",
       "      <th>tags</th>\n",
       "      <th>screenshots</th>\n",
       "    </tr>\n",
       "  </thead>\n",
       "  <tbody>\n",
       "  </tbody>\n",
       "</table>\n",
       "<p>0 rows × 38 columns</p>\n",
       "</div>"
      ],
      "text/plain": [
       "Empty DataFrame\n",
       "Columns: [ID, name, release_date, estimated_owners, peak_ccu, required_age, price, dlc_count, main_description, supported_languages, full_audio_languages, reviews, header_image, website, support_url, support_email, windows, mac, linux, metacritic_score, metacriticURL, user_score, positive, negative, score_rank, achievements, recommendations, notes, average_playtime_forever, average_playtime_2weeks, median_playtime_forever, packages, developers, publishers, categories, genres, tags, screenshots]\n",
       "Index: []\n",
       "\n",
       "[0 rows x 38 columns]"
      ]
     },
     "execution_count": 10,
     "metadata": {},
     "output_type": "execute_result"
    }
   ],
   "source": [
    "dfCleaned[\"price\"].max()\n",
    "df[df[\"price\"] == 999.98]"
   ]
  },
  {
   "cell_type": "code",
   "execution_count": 11,
   "id": "0abc4514",
   "metadata": {},
   "outputs": [
    {
     "data": {
      "text/plain": [
       "<AxesSubplot:xlabel='price', ylabel='metacritic_score'>"
      ]
     },
     "execution_count": 11,
     "metadata": {},
     "output_type": "execute_result"
    },
    {
     "data": {
      "image/png": "[encoded data removed]",
      "text/plain": [
       "<Figure size 640x480 with 1 Axes>"
      ]
     },
     "metadata": {},
     "output_type": "display_data"
    }
   ],
   "source": [
    "sns.scatterplot(data=dfCleaned, x=\"price\", y=\"metacritic_score\")"
   ]
  },
  {
   "cell_type": "code",
   "execution_count": 12,
   "id": "45ed82af",
   "metadata": {},
   "outputs": [
    {
     "name": "stdout",
     "output_type": "stream",
     "text": [
      "<class 'pandas.core.frame.DataFrame'>\n",
      "Int64Index: 97408 entries, 0 to 97409\n",
      "Data columns (total 38 columns):\n",
      " #   Column                    Non-Null Count  Dtype  \n",
      "---  ------                    --------------  -----  \n",
      " 0   ID                        97408 non-null  int64  \n",
      " 1   name                      97402 non-null  object \n",
      " 2   release_date              97408 non-null  object \n",
      " 3   estimated_owners          97408 non-null  object \n",
      " 4   peak_ccu                  97408 non-null  int64  \n",
      " 5   required_age              97408 non-null  int64  \n",
      " 6   price                     97408 non-null  float64\n",
      " 7   dlc_count                 97408 non-null  int64  \n",
      " 8   main_description          92538 non-null  object \n",
      " 9   supported_languages       97408 non-null  object \n",
      " 10  full_audio_languages      97408 non-null  object \n",
      " 11  reviews                   10125 non-null  object \n",
      " 12  header_image              97408 non-null  object \n",
      " 13  website                   42735 non-null  object \n",
      " 14  support_url               45906 non-null  object \n",
      " 15  support_email             81376 non-null  object \n",
      " 16  windows                   97408 non-null  bool   \n",
      " 17  mac                       97408 non-null  bool   \n",
      " 18  linux                     97408 non-null  bool   \n",
      " 19  metacritic_score          97408 non-null  int64  \n",
      " 20  metacriticURL             3953 non-null   object \n",
      " 21  user_score                97408 non-null  int64  \n",
      " 22  positive                  97408 non-null  int64  \n",
      " 23  negative                  97408 non-null  int64  \n",
      " 24  score_rank                44 non-null     float64\n",
      " 25  achievements              97408 non-null  int64  \n",
      " 26  recommendations           97408 non-null  int64  \n",
      " 27  notes                     15474 non-null  object \n",
      " 28  average_playtime_forever  97408 non-null  int64  \n",
      " 29  average_playtime_2weeks   97408 non-null  int64  \n",
      " 30  median_playtime_forever   97408 non-null  int64  \n",
      " 31  packages                  97408 non-null  int64  \n",
      " 32  developers                92532 non-null  object \n",
      " 33  publishers                92272 non-null  object \n",
      " 34  categories                91495 non-null  object \n",
      " 35  genres                    92567 non-null  object \n",
      " 36  tags                      67647 non-null  object \n",
      " 37  screenshots               94513 non-null  object \n",
      "dtypes: bool(3), float64(2), int64(14), object(19)\n",
      "memory usage: 29.0+ MB\n"
     ]
    }
   ],
   "source": [
    "df.info()"
   ]
  },
  {
   "cell_type": "code",
   "execution_count": 13,
   "id": "ebfeda82",
   "metadata": {},
   "outputs": [
    {
     "data": {
      "text/html": [
       "<div>\n",
       "<style scoped>\n",
       "    .dataframe tbody tr th:only-of-type {\n",
       "        vertical-align: middle;\n",
       "    }\n",
       "\n",
       "    .dataframe tbody tr th {\n",
       "        vertical-align: top;\n",
       "    }\n",
       "\n",
       "    .dataframe thead th {\n",
       "        text-align: right;\n",
       "    }\n",
       "</style>\n",
       "<table border=\"1\" class=\"dataframe\">\n",
       "  <thead>\n",
       "    <tr style=\"text-align: right;\">\n",
       "      <th></th>\n",
       "      <th>ID</th>\n",
       "      <th>name</th>\n",
       "      <th>release_date</th>\n",
       "      <th>estimated_owners</th>\n",
       "      <th>peak_ccu</th>\n",
       "      <th>required_age</th>\n",
       "      <th>price</th>\n",
       "      <th>dlc_count</th>\n",
       "      <th>main_description</th>\n",
       "      <th>supported_languages</th>\n",
       "      <th>...</th>\n",
       "      <th>average_playtime_forever</th>\n",
       "      <th>average_playtime_2weeks</th>\n",
       "      <th>median_playtime_forever</th>\n",
       "      <th>packages</th>\n",
       "      <th>developers</th>\n",
       "      <th>publishers</th>\n",
       "      <th>categories</th>\n",
       "      <th>genres</th>\n",
       "      <th>tags</th>\n",
       "      <th>screenshots</th>\n",
       "    </tr>\n",
       "  </thead>\n",
       "  <tbody>\n",
       "    <tr>\n",
       "      <th>46158</th>\n",
       "      <td>730</td>\n",
       "      <td>Counter-Strike: Global Offensive</td>\n",
       "      <td>Aug 21, 2012</td>\n",
       "      <td>50000000 - 100000000</td>\n",
       "      <td>825215</td>\n",
       "      <td>0</td>\n",
       "      <td>0.0</td>\n",
       "      <td>0</td>\n",
       "      <td>Counter-Strike: Global Offensive (CS: GO) expa...</td>\n",
       "      <td>['Czech', 'Danish', 'Dutch', 'English', 'Finni...</td>\n",
       "      <td>...</td>\n",
       "      <td>30484</td>\n",
       "      <td>777</td>\n",
       "      <td>6357</td>\n",
       "      <td>253</td>\n",
       "      <td>Valve,Hidden Path Entertainment</td>\n",
       "      <td>Valve</td>\n",
       "      <td>Multi-player,Steam Achievements,Full controlle...</td>\n",
       "      <td>Action,Free to Play</td>\n",
       "      <td>FPS,Shooter,Multiplayer,Competitive,Action,Tea...</td>\n",
       "      <td>https://cdn.akamai.steamstatic.com/steam/apps/...</td>\n",
       "    </tr>\n",
       "  </tbody>\n",
       "</table>\n",
       "<p>1 rows × 38 columns</p>\n",
       "</div>"
      ],
      "text/plain": [
       "        ID                              name  release_date  \\\n",
       "46158  730  Counter-Strike: Global Offensive  Aug 21, 2012   \n",
       "\n",
       "           estimated_owners  peak_ccu  required_age  price  dlc_count  \\\n",
       "46158  50000000 - 100000000    825215             0    0.0          0   \n",
       "\n",
       "                                        main_description  \\\n",
       "46158  Counter-Strike: Global Offensive (CS: GO) expa...   \n",
       "\n",
       "                                     supported_languages  ...  \\\n",
       "46158  ['Czech', 'Danish', 'Dutch', 'English', 'Finni...  ...   \n",
       "\n",
       "      average_playtime_forever average_playtime_2weeks  \\\n",
       "46158                    30484                     777   \n",
       "\n",
       "      median_playtime_forever packages                       developers  \\\n",
       "46158                    6357      253  Valve,Hidden Path Entertainment   \n",
       "\n",
       "      publishers                                         categories  \\\n",
       "46158      Valve  Multi-player,Steam Achievements,Full controlle...   \n",
       "\n",
       "                    genres                                               tags  \\\n",
       "46158  Action,Free to Play  FPS,Shooter,Multiplayer,Competitive,Action,Tea...   \n",
       "\n",
       "                                             screenshots  \n",
       "46158  https://cdn.akamai.steamstatic.com/steam/apps/...  \n",
       "\n",
       "[1 rows x 38 columns]"
      ]
     },
     "execution_count": 13,
     "metadata": {},
     "output_type": "execute_result"
    }
   ],
   "source": [
    "df[df[\"recommendations\"] == df[\"recommendations\"].max()]"
   ]
  },
  {
   "cell_type": "code",
   "execution_count": 14,
   "id": "8a8eb766",
   "metadata": {},
   "outputs": [
    {
     "data": {
      "text/html": [
       "<div>\n",
       "<style scoped>\n",
       "    .dataframe tbody tr th:only-of-type {\n",
       "        vertical-align: middle;\n",
       "    }\n",
       "\n",
       "    .dataframe tbody tr th {\n",
       "        vertical-align: top;\n",
       "    }\n",
       "\n",
       "    .dataframe thead th {\n",
       "        text-align: right;\n",
       "    }\n",
       "</style>\n",
       "<table border=\"1\" class=\"dataframe\">\n",
       "  <thead>\n",
       "    <tr style=\"text-align: right;\">\n",
       "      <th></th>\n",
       "      <th>ID</th>\n",
       "      <th>name</th>\n",
       "      <th>release_date</th>\n",
       "      <th>estimated_owners</th>\n",
       "      <th>peak_ccu</th>\n",
       "      <th>required_age</th>\n",
       "      <th>price</th>\n",
       "      <th>dlc_count</th>\n",
       "      <th>main_description</th>\n",
       "      <th>supported_languages</th>\n",
       "      <th>...</th>\n",
       "      <th>average_playtime_forever</th>\n",
       "      <th>average_playtime_2weeks</th>\n",
       "      <th>median_playtime_forever</th>\n",
       "      <th>packages</th>\n",
       "      <th>developers</th>\n",
       "      <th>publishers</th>\n",
       "      <th>categories</th>\n",
       "      <th>genres</th>\n",
       "      <th>tags</th>\n",
       "      <th>screenshots</th>\n",
       "    </tr>\n",
       "  </thead>\n",
       "  <tbody>\n",
       "    <tr>\n",
       "      <th>26936</th>\n",
       "      <td>1200520</td>\n",
       "      <td>Ascent Free-Roaming VR Experience</td>\n",
       "      <td>Dec 27, 2019</td>\n",
       "      <td>0 - 20000</td>\n",
       "      <td>0</td>\n",
       "      <td>0</td>\n",
       "      <td>999.0</td>\n",
       "      <td>0</td>\n",
       "      <td>The Ascent is a Free-Roaming highly immersive ...</td>\n",
       "      <td>['English']</td>\n",
       "      <td>...</td>\n",
       "      <td>0</td>\n",
       "      <td>0</td>\n",
       "      <td>0</td>\n",
       "      <td>0</td>\n",
       "      <td>Fury Games</td>\n",
       "      <td>Fury Games</td>\n",
       "      <td>Single-player,Multi-player,Co-op,LAN Co-op</td>\n",
       "      <td>Action</td>\n",
       "      <td>Action,VR,Free to Play,Multiplayer,Arena Shoot...</td>\n",
       "      <td>https://cdn.akamai.steamstatic.com/steam/apps/...</td>\n",
       "    </tr>\n",
       "  </tbody>\n",
       "</table>\n",
       "<p>1 rows × 38 columns</p>\n",
       "</div>"
      ],
      "text/plain": [
       "            ID                               name  release_date  \\\n",
       "26936  1200520  Ascent Free-Roaming VR Experience  Dec 27, 2019   \n",
       "\n",
       "      estimated_owners  peak_ccu  required_age  price  dlc_count  \\\n",
       "26936        0 - 20000         0             0  999.0          0   \n",
       "\n",
       "                                        main_description supported_languages  \\\n",
       "26936  The Ascent is a Free-Roaming highly immersive ...         ['English']   \n",
       "\n",
       "       ... average_playtime_forever average_playtime_2weeks  \\\n",
       "26936  ...                        0                       0   \n",
       "\n",
       "      median_playtime_forever packages  developers  publishers  \\\n",
       "26936                       0        0  Fury Games  Fury Games   \n",
       "\n",
       "                                       categories  genres  \\\n",
       "26936  Single-player,Multi-player,Co-op,LAN Co-op  Action   \n",
       "\n",
       "                                                    tags  \\\n",
       "26936  Action,VR,Free to Play,Multiplayer,Arena Shoot...   \n",
       "\n",
       "                                             screenshots  \n",
       "26936  https://cdn.akamai.steamstatic.com/steam/apps/...  \n",
       "\n",
       "[1 rows x 38 columns]"
      ]
     },
     "execution_count": 14,
     "metadata": {},
     "output_type": "execute_result"
    }
   ],
   "source": [
    "df[df[\"price\"] == df[\"price\"].max()]"
   ]
  },
  {
   "cell_type": "code",
   "execution_count": 17,
   "id": "cde13723",
   "metadata": {},
   "outputs": [],
   "source": [
    "# Index is 81901\n",
    "# Index is 82971\n",
    "# Index is 46158\n",
    "# Index is 26936\n",
    "cleanedDF = df.drop([81901, 82971, 46158, 26936])"
   ]
  },
  {
   "cell_type": "code",
   "execution_count": 18,
   "id": "7443d818",
   "metadata": {},
   "outputs": [
    {
     "data": {
      "text/plain": [
       "<AxesSubplot:xlabel='price', ylabel='recommendations'>"
      ]
     },
     "execution_count": 18,
     "metadata": {},
     "output_type": "execute_result"
    },
    {
     "data": {
      "image/png": "[encoded data removed]",
      "text/plain": [
       "<Figure size 640x480 with 1 Axes>"
      ]
     },
     "metadata": {},
     "output_type": "display_data"
    }
   ],
   "source": [
    "sns.scatterplot(data=cleanedDF, x=\"price\", y=\"recommendations\")"
   ]
  },
  {
   "cell_type": "code",
   "execution_count": 19,
   "id": "e08e33ff",
   "metadata": {},
   "outputs": [
    {
     "data": {
      "text/html": [
       "<div>\n",
       "<style scoped>\n",
       "    .dataframe tbody tr th:only-of-type {\n",
       "        vertical-align: middle;\n",
       "    }\n",
       "\n",
       "    .dataframe tbody tr th {\n",
       "        vertical-align: top;\n",
       "    }\n",
       "\n",
       "    .dataframe thead th {\n",
       "        text-align: right;\n",
       "    }\n",
       "</style>\n",
       "<table border=\"1\" class=\"dataframe\">\n",
       "  <thead>\n",
       "    <tr style=\"text-align: right;\">\n",
       "      <th></th>\n",
       "      <th>ID</th>\n",
       "      <th>name</th>\n",
       "      <th>release_date</th>\n",
       "      <th>estimated_owners</th>\n",
       "      <th>peak_ccu</th>\n",
       "      <th>required_age</th>\n",
       "      <th>price</th>\n",
       "      <th>dlc_count</th>\n",
       "      <th>main_description</th>\n",
       "      <th>supported_languages</th>\n",
       "      <th>...</th>\n",
       "      <th>average_playtime_forever</th>\n",
       "      <th>average_playtime_2weeks</th>\n",
       "      <th>median_playtime_forever</th>\n",
       "      <th>packages</th>\n",
       "      <th>developers</th>\n",
       "      <th>publishers</th>\n",
       "      <th>categories</th>\n",
       "      <th>genres</th>\n",
       "      <th>tags</th>\n",
       "      <th>screenshots</th>\n",
       "    </tr>\n",
       "  </thead>\n",
       "  <tbody>\n",
       "    <tr>\n",
       "      <th>94022</th>\n",
       "      <td>3013840</td>\n",
       "      <td>True Love</td>\n",
       "      <td>Jun 27, 2024</td>\n",
       "      <td>0 - 20000</td>\n",
       "      <td>0</td>\n",
       "      <td>0</td>\n",
       "      <td>500.0</td>\n",
       "      <td>0</td>\n",
       "      <td>This game created out of pure sadness. I have ...</td>\n",
       "      <td>['English']</td>\n",
       "      <td>...</td>\n",
       "      <td>0</td>\n",
       "      <td>0</td>\n",
       "      <td>0</td>\n",
       "      <td>0</td>\n",
       "      <td>A Guy</td>\n",
       "      <td>Whoes heart broken</td>\n",
       "      <td>Single-player,Family Sharing</td>\n",
       "      <td>Action,Adventure,Casual,Indie</td>\n",
       "      <td>Casual,Action-Adventure,Visual Novel,Dating Si...</td>\n",
       "      <td>https://shared.akamai.steamstatic.com/store_it...</td>\n",
       "    </tr>\n",
       "  </tbody>\n",
       "</table>\n",
       "<p>1 rows × 38 columns</p>\n",
       "</div>"
      ],
      "text/plain": [
       "            ID       name  release_date estimated_owners  peak_ccu  \\\n",
       "94022  3013840  True Love  Jun 27, 2024        0 - 20000         0   \n",
       "\n",
       "       required_age  price  dlc_count  \\\n",
       "94022             0  500.0          0   \n",
       "\n",
       "                                        main_description supported_languages  \\\n",
       "94022  This game created out of pure sadness. I have ...         ['English']   \n",
       "\n",
       "       ... average_playtime_forever average_playtime_2weeks  \\\n",
       "94022  ...                        0                       0   \n",
       "\n",
       "      median_playtime_forever packages developers          publishers  \\\n",
       "94022                       0        0      A Guy  Whoes heart broken   \n",
       "\n",
       "                         categories                         genres  \\\n",
       "94022  Single-player,Family Sharing  Action,Adventure,Casual,Indie   \n",
       "\n",
       "                                                    tags  \\\n",
       "94022  Casual,Action-Adventure,Visual Novel,Dating Si...   \n",
       "\n",
       "                                             screenshots  \n",
       "94022  https://shared.akamai.steamstatic.com/store_it...  \n",
       "\n",
       "[1 rows x 38 columns]"
      ]
     },
     "execution_count": 19,
     "metadata": {},
     "output_type": "execute_result"
    }
   ],
   "source": [
    "cleanedDF[cleanedDF[\"price\"] == cleanedDF[\"price\"].max()]"
   ]
  },
  {
   "cell_type": "code",
   "execution_count": 20,
   "id": "52a7c3b2",
   "metadata": {},
   "outputs": [
    {
     "data": {
      "text/plain": [
       "<AxesSubplot:xlabel='positive', ylabel='negative'>"
      ]
     },
     "execution_count": 20,
     "metadata": {},
     "output_type": "execute_result"
    },
    {
     "data": {
      "image/png": "[encoded data removed]",
      "text/plain": [
       "<Figure size 640x480 with 1 Axes>"
      ]
     },
     "metadata": {},
     "output_type": "display_data"
    }
   ],
   "source": [
    "sns.scatterplot(data=df, x=\"positive\", y=\"negative\")"
   ]
  },
  {
   "cell_type": "code",
   "execution_count": 21,
   "id": "a61c4710",
   "metadata": {},
   "outputs": [],
   "source": [
    "subDF = df[[\"positive\", \"negative\"]]"
   ]
  },
  {
   "cell_type": "code",
   "execution_count": 22,
   "id": "6775373b",
   "metadata": {},
   "outputs": [
    {
     "data": {
      "text/html": [
       "<div>\n",
       "<style scoped>\n",
       "    .dataframe tbody tr th:only-of-type {\n",
       "        vertical-align: middle;\n",
       "    }\n",
       "\n",
       "    .dataframe tbody tr th {\n",
       "        vertical-align: top;\n",
       "    }\n",
       "\n",
       "    .dataframe thead th {\n",
       "        text-align: right;\n",
       "    }\n",
       "</style>\n",
       "<table border=\"1\" class=\"dataframe\">\n",
       "  <thead>\n",
       "    <tr style=\"text-align: right;\">\n",
       "      <th></th>\n",
       "      <th>positive</th>\n",
       "      <th>negative</th>\n",
       "    </tr>\n",
       "  </thead>\n",
       "  <tbody>\n",
       "    <tr>\n",
       "      <th>positive</th>\n",
       "      <td>1.000000</td>\n",
       "      <td>0.782384</td>\n",
       "    </tr>\n",
       "    <tr>\n",
       "      <th>negative</th>\n",
       "      <td>0.782384</td>\n",
       "      <td>1.000000</td>\n",
       "    </tr>\n",
       "  </tbody>\n",
       "</table>\n",
       "</div>"
      ],
      "text/plain": [
       "          positive  negative\n",
       "positive  1.000000  0.782384\n",
       "negative  0.782384  1.000000"
      ]
     },
     "execution_count": 22,
     "metadata": {},
     "output_type": "execute_result"
    }
   ],
   "source": [
    "subDF.corr(method=\"pearson\")"
   ]
  },
  {
   "cell_type": "code",
   "execution_count": 23,
   "id": "9abb7bc7",
   "metadata": {},
   "outputs": [
    {
     "data": {
      "text/plain": [
       "0.7823842565518241"
      ]
     },
     "execution_count": 23,
     "metadata": {},
     "output_type": "execute_result"
    }
   ],
   "source": [
    "df['positive'].corr(df['negative'])"
   ]
  },
  {
   "cell_type": "code",
   "execution_count": 24,
   "id": "31c31d38",
   "metadata": {},
   "outputs": [
    {
     "data": {
      "text/plain": [
       "<AxesSubplot:xlabel='average_playtime_forever', ylabel='median_playtime_forever'>"
      ]
     },
     "execution_count": 24,
     "metadata": {},
     "output_type": "execute_result"
    },
    {
     "data": {
      "image/png": "[encoded data removed]",
      "text/plain": [
       "<Figure size 640x480 with 1 Axes>"
      ]
     },
     "metadata": {},
     "output_type": "display_data"
    }
   ],
   "source": [
    "sns.scatterplot(data=cleanedDF, x=\"average_playtime_forever\", y=\"median_playtime_forever\")\n"
   ]
  },
  {
   "cell_type": "code",
   "execution_count": 25,
   "id": "ac288308",
   "metadata": {},
   "outputs": [
    {
     "data": {
      "text/plain": [
       "0.8844518086787528"
      ]
     },
     "execution_count": 25,
     "metadata": {},
     "output_type": "execute_result"
    }
   ],
   "source": [
    "df['average_playtime_forever'].corr(df['median_playtime_forever'])"
   ]
  },
  {
   "cell_type": "code",
   "execution_count": null,
   "id": "6c9ca4e8",
   "metadata": {},
   "outputs": [],
   "source": []
  }
 ],
 "metadata": {
  "kernelspec": {
   "display_name": "Python 3 (ipykernel)",
   "language": "python",
   "name": "python3"
  },
  "language_info": {
   "codemirror_mode": {
    "name": "ipython",
    "version": 3
   },
   "file_extension": ".py",
   "mimetype": "text/x-python",
   "name": "python",
   "nbconvert_exporter": "python",
   "pygments_lexer": "ipython3",
   "version": "3.9.13"
  }
 },
 "nbformat": 4,
 "nbformat_minor": 5
}
